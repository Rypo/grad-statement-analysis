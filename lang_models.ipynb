{
 "cells": [
  {
   "cell_type": "markdown",
   "metadata": {
    "colab_type": "text",
    "id": "lXrfwKa9I4bB"
   },
   "source": [
    "# Language Modeling"
   ]
  },
  {
   "cell_type": "code",
   "execution_count": 1,
   "metadata": {
    "colab": {
     "base_uri": "https://localhost:8080/",
     "height": 121
    },
    "colab_type": "code",
    "executionInfo": {
     "elapsed": 20338,
     "status": "ok",
     "timestamp": 1566493532890,
     "user": {
      "displayName": "Ry G",
      "photoUrl": "",
      "userId": "08088248083621715982"
     },
     "user_tz": 300
    },
    "id": "5VsT4tmpJc94",
    "outputId": "c0794bd0-37d9-41bb-ce63-c357a49c87af"
   },
   "outputs": [],
   "source": [
    "from google.colab import drive\n",
    "drive.mount('/content/gdrive', force_remount=True)\n",
    "root_dir = \"/content/gdrive/My Drive/\"\n",
    "base_dir = root_dir + 'fastai_nlp/'"
   ]
  },
  {
   "cell_type": "code",
   "execution_count": 0,
   "metadata": {
    "colab": {
     "base_uri": "https://localhost:8080/",
     "height": 50
    },
    "colab_type": "code",
    "executionInfo": {
     "elapsed": 4944,
     "status": "ok",
     "timestamp": 1566493540650,
     "user": {
      "displayName": "Ry G",
      "photoUrl": "",
      "userId": "08088248083621715982"
     },
     "user_tz": 300
    },
    "id": "O_5xtmv1JenU",
    "outputId": "4dddfed2-057b-4e34-81e8-76f4f0ade3f7"
   },
   "outputs": [
    {
     "name": "stdout",
     "output_type": "stream",
     "text": [
      "Updating fastai...\n",
      "Done.\n"
     ]
    }
   ],
   "source": [
    "!curl -s https://course.fast.ai/setup/colab | bash"
   ]
  },
  {
   "cell_type": "code",
   "execution_count": 0,
   "metadata": {
    "colab": {
     "base_uri": "https://localhost:8080/",
     "height": 34
    },
    "colab_type": "code",
    "executionInfo": {
     "elapsed": 358,
     "status": "ok",
     "timestamp": 1566491624936,
     "user": {
      "displayName": "Ry G",
      "photoUrl": "",
      "userId": "08088248083621715982"
     },
     "user_tz": 300
    },
    "id": "t4VAWs0NLT0Q",
    "outputId": "2e44873f-0cc1-4939-9f2f-ffa033fb0df2"
   },
   "outputs": [
    {
     "data": {
      "text/plain": [
       "'/content/gdrive/My Drive/fastai_nlp/proc_data/proc_data.zip'"
      ]
     },
     "execution_count": 6,
     "metadata": {
      "tags": []
     },
     "output_type": "execute_result"
    }
   ],
   "source": [
    "base_dir + 'proc_data/' + 'proc_data.zip'"
   ]
  },
  {
   "cell_type": "code",
   "execution_count": 0,
   "metadata": {
    "colab": {},
    "colab_type": "code",
    "id": "ZQsrFpIGJfDm"
   },
   "outputs": [],
   "source": [
    "!unzip '/content/gdrive/My Drive/fastai_nlp/proc_data/all_texts.zip' -d '/content/gdrive/My Drive/fastai_nlp/proc_data/'"
   ]
  },
  {
   "cell_type": "code",
   "execution_count": 0,
   "metadata": {
    "colab": {},
    "colab_type": "code",
    "id": "a7tp7icuI4bE"
   },
   "outputs": [],
   "source": [
    "%reload_ext autoreload\n",
    "%autoreload 2\n",
    "%matplotlib inline\n",
    "\n",
    "from fastai import *\n",
    "from fastai.text import *"
   ]
  },
  {
   "cell_type": "code",
   "execution_count": 0,
   "metadata": {
    "colab": {},
    "colab_type": "code",
    "id": "8ok1T9y5I4bI"
   },
   "outputs": [],
   "source": [
    "# bs=48\n",
    "bs=128"
   ]
  },
  {
   "cell_type": "code",
   "execution_count": 0,
   "metadata": {
    "colab": {},
    "colab_type": "code",
    "id": "geeBjb-1I4bM"
   },
   "outputs": [],
   "source": [
    "data_path = Path(base_dir + '/proc_data/') #untar_data(URLs.IMDB)\n",
    "model_path = Path(base_dir + '/models/')"
   ]
  },
  {
   "cell_type": "markdown",
   "metadata": {
    "colab_type": "text",
    "id": "y-sKsEwuI4bQ"
   },
   "source": [
    "## Language model"
   ]
  },
  {
   "cell_type": "markdown",
   "metadata": {
    "colab_type": "text",
    "id": "uJIw-bGWjBB2"
   },
   "source": [
    "### Full dataset"
   ]
  },
  {
   "cell_type": "code",
   "execution_count": 0,
   "metadata": {
    "colab": {
     "base_uri": "https://localhost:8080/",
     "height": 34
    },
    "colab_type": "code",
    "executionInfo": {
     "elapsed": 13,
     "status": "ok",
     "timestamp": 1566494755821,
     "user": {
      "displayName": "Ry G",
      "photoUrl": "",
      "userId": "08088248083621715982"
     },
     "user_tz": 300
    },
    "id": "VZeJGz2fI4bR",
    "outputId": "afdce7d6-978d-4f0e-d184-c90fd66c3deb"
   },
   "outputs": [
    {
     "data": {
      "text/plain": [
       "(21144, 10787)"
      ]
     },
     "execution_count": 11,
     "metadata": {
      "tags": []
     },
     "output_type": "execute_result"
    }
   ],
   "source": [
    "data_lm = (TextList.from_folder(data_path)\n",
    "            .filter_by_folder(include=['all_texts']) \n",
    "            .split_by_rand_pct(0.1, seed=42)\n",
    "            .label_for_lm()           \n",
    "            .databunch(bs=bs, num_workers=1))\n",
    "\n",
    "len(data_lm.vocab.itos),len(data_lm.train_ds)"
   ]
  },
  {
   "cell_type": "code",
   "execution_count": 0,
   "metadata": {
    "colab": {},
    "colab_type": "code",
    "id": "c8XfR7ozTCLR"
   },
   "outputs": [],
   "source": [
    "!ls \"/content/gdrive/My Drive/fastai_nlp/proc_data/op_replies\""
   ]
  },
  {
   "cell_type": "code",
   "execution_count": 0,
   "metadata": {
    "colab": {
     "base_uri": "https://localhost:8080/",
     "height": 286
    },
    "colab_type": "code",
    "executionInfo": {
     "elapsed": 386,
     "status": "ok",
     "timestamp": 1566493595769,
     "user": {
      "displayName": "Ry G",
      "photoUrl": "",
      "userId": "08088248083621715982"
     },
     "user_tz": 300
    },
    "id": "yUJgbMAISxm_",
    "outputId": "93a33f75-c36b-4a76-83fc-ac92948ced6e"
   },
   "outputs": [
    {
     "data": {
      "text/plain": [
       "['xxunk',\n",
       " 'xxpad',\n",
       " 'xxbos',\n",
       " 'xxeos',\n",
       " 'xxfld',\n",
       " 'xxmaj',\n",
       " 'xxup',\n",
       " 'xxrep',\n",
       " 'xxwrep',\n",
       " 'xxfake',\n",
       " 'xxfake',\n",
       " 'xxfake',\n",
       " 'xxfake',\n",
       " 'xxfake',\n",
       " 'xxfake',\n",
       " 'xxfake']"
      ]
     },
     "execution_count": 7,
     "metadata": {
      "tags": []
     },
     "output_type": "execute_result"
    }
   ],
   "source": [
    "data_lm.vocab.itos"
   ]
  },
  {
   "cell_type": "code",
   "execution_count": 0,
   "metadata": {
    "colab": {},
    "colab_type": "code",
    "id": "wj9dmpKlI4bU"
   },
   "outputs": [],
   "source": [
    "data_lm.save(data_path/'lm_databunch')"
   ]
  },
  {
   "cell_type": "code",
   "execution_count": 0,
   "metadata": {
    "colab": {},
    "colab_type": "code",
    "id": "Mcu5yUfuI4bX"
   },
   "outputs": [],
   "source": [
    "data_lm = load_data(data_path, 'lm_databunch', bs=bs)"
   ]
  },
  {
   "cell_type": "code",
   "execution_count": 0,
   "metadata": {
    "colab": {},
    "colab_type": "code",
    "id": "ylm28xvCI4ba",
    "scrolled": true
   },
   "outputs": [],
   "source": [
    "learn_lm = language_model_learner(data_lm, AWD_LSTM, drop_mult=1.).to_fp16()"
   ]
  },
  {
   "cell_type": "code",
   "execution_count": 0,
   "metadata": {
    "colab": {
     "base_uri": "https://localhost:8080/",
     "height": 34
    },
    "colab_type": "code",
    "executionInfo": {
     "elapsed": 15476,
     "status": "ok",
     "timestamp": 1566494913355,
     "user": {
      "displayName": "Ry G",
      "photoUrl": "",
      "userId": "08088248083621715982"
     },
     "user_tz": 300
    },
    "id": "UARTz4-sXs3V",
    "outputId": "5cce6365-6b1f-4408-9213-69388ef4ab02"
   },
   "outputs": [
    {
     "data": {
      "text/html": [],
      "text/plain": [
       "<IPython.core.display.HTML object>"
      ]
     },
     "metadata": {
      "tags": []
     },
     "output_type": "display_data"
    },
    {
     "name": "stdout",
     "output_type": "stream",
     "text": [
      "LR Finder is complete, type {learner_name}.recorder.plot() to see the graph.\n"
     ]
    }
   ],
   "source": [
    "learn_lm.lr_find()"
   ]
  },
  {
   "cell_type": "code",
   "execution_count": 0,
   "metadata": {
    "colab": {
     "base_uri": "https://localhost:8080/",
     "height": 283
    },
    "colab_type": "code",
    "executionInfo": {
     "elapsed": 833,
     "status": "ok",
     "timestamp": 1566494928044,
     "user": {
      "displayName": "Ry G",
      "photoUrl": "",
      "userId": "08088248083621715982"
     },
     "user_tz": 300
    },
    "id": "ugZbcII7X4-E",
    "outputId": "4e5c50f5-a80d-4be8-d68b-f8fdabc39096"
   },
   "outputs": [
    {
     "data": {
      "image/png": "[encoded data removed]",
      "text/plain": [
       "<Figure size 432x288 with 1 Axes>"
      ]
     },
     "metadata": {
      "tags": []
     },
     "output_type": "display_data"
    }
   ],
   "source": [
    "learn_lm.recorder.plot()"
   ]
  },
  {
   "cell_type": "code",
   "execution_count": 0,
   "metadata": {
    "colab": {},
    "colab_type": "code",
    "id": "4vAlvTBTI4bf"
   },
   "outputs": [],
   "source": [
    "lr = 1e-2\n",
    "lr *= bs/48"
   ]
  },
  {
   "cell_type": "code",
   "execution_count": 0,
   "metadata": {
    "colab": {
     "base_uri": "https://localhost:8080/",
     "height": 77
    },
    "colab_type": "code",
    "executionInfo": {
     "elapsed": 74281,
     "status": "ok",
     "timestamp": 1566495015782,
     "user": {
      "displayName": "Ry G",
      "photoUrl": "",
      "userId": "08088248083621715982"
     },
     "user_tz": 300
    },
    "id": "Q2HKzkRwI4bi",
    "outputId": "3312db08-bfc8-496c-b5e1-e3fb9f8eba6b"
   },
   "outputs": [
    {
     "data": {
      "text/html": [
       "<table border=\"1\" class=\"dataframe\">\n",
       "  <thead>\n",
       "    <tr style=\"text-align: left;\">\n",
       "      <th>epoch</th>\n",
       "      <th>train_loss</th>\n",
       "      <th>valid_loss</th>\n",
       "      <th>accuracy</th>\n",
       "      <th>time</th>\n",
       "    </tr>\n",
       "  </thead>\n",
       "  <tbody>\n",
       "    <tr>\n",
       "      <td>0</td>\n",
       "      <td>4.155488</td>\n",
       "      <td>3.782548</td>\n",
       "      <td>0.297433</td>\n",
       "      <td>01:13</td>\n",
       "    </tr>\n",
       "  </tbody>\n",
       "</table>"
      ],
      "text/plain": [
       "<IPython.core.display.HTML object>"
      ]
     },
     "metadata": {
      "tags": []
     },
     "output_type": "display_data"
    }
   ],
   "source": [
    "learn_lm.fit_one_cycle(1, lr, moms=(0.8,0.7))"
   ]
  },
  {
   "cell_type": "code",
   "execution_count": 0,
   "metadata": {
    "colab": {},
    "colab_type": "code",
    "id": "Q5CCX66eYYWa"
   },
   "outputs": [],
   "source": [
    "learn_lm.save(model_path/'sop_baseline')"
   ]
  },
  {
   "cell_type": "code",
   "execution_count": 0,
   "metadata": {
    "colab": {
     "base_uri": "https://localhost:8080/",
     "height": 343
    },
    "colab_type": "code",
    "executionInfo": {
     "elapsed": 898536,
     "status": "ok",
     "timestamp": 1566495994225,
     "user": {
      "displayName": "Ry G",
      "photoUrl": "",
      "userId": "08088248083621715982"
     },
     "user_tz": 300
    },
    "id": "HstcGRPQI4bn",
    "outputId": "1c648109-e1c5-44dd-c0b2-6f2f7a9d5721"
   },
   "outputs": [
    {
     "data": {
      "text/html": [
       "<table border=\"1\" class=\"dataframe\">\n",
       "  <thead>\n",
       "    <tr style=\"text-align: left;\">\n",
       "      <th>epoch</th>\n",
       "      <th>train_loss</th>\n",
       "      <th>valid_loss</th>\n",
       "      <th>accuracy</th>\n",
       "      <th>time</th>\n",
       "    </tr>\n",
       "  </thead>\n",
       "  <tbody>\n",
       "    <tr>\n",
       "      <td>0</td>\n",
       "      <td>3.818278</td>\n",
       "      <td>3.653118</td>\n",
       "      <td>0.311968</td>\n",
       "      <td>01:29</td>\n",
       "    </tr>\n",
       "    <tr>\n",
       "      <td>1</td>\n",
       "      <td>3.716506</td>\n",
       "      <td>3.571735</td>\n",
       "      <td>0.321503</td>\n",
       "      <td>01:29</td>\n",
       "    </tr>\n",
       "    <tr>\n",
       "      <td>2</td>\n",
       "      <td>3.605468</td>\n",
       "      <td>3.518314</td>\n",
       "      <td>0.326854</td>\n",
       "      <td>01:29</td>\n",
       "    </tr>\n",
       "    <tr>\n",
       "      <td>3</td>\n",
       "      <td>3.516672</td>\n",
       "      <td>3.468501</td>\n",
       "      <td>0.333508</td>\n",
       "      <td>01:29</td>\n",
       "    </tr>\n",
       "    <tr>\n",
       "      <td>4</td>\n",
       "      <td>3.439577</td>\n",
       "      <td>3.427936</td>\n",
       "      <td>0.338726</td>\n",
       "      <td>01:29</td>\n",
       "    </tr>\n",
       "    <tr>\n",
       "      <td>5</td>\n",
       "      <td>3.302038</td>\n",
       "      <td>3.400689</td>\n",
       "      <td>0.343010</td>\n",
       "      <td>01:29</td>\n",
       "    </tr>\n",
       "    <tr>\n",
       "      <td>6</td>\n",
       "      <td>3.220194</td>\n",
       "      <td>3.372338</td>\n",
       "      <td>0.347076</td>\n",
       "      <td>01:29</td>\n",
       "    </tr>\n",
       "    <tr>\n",
       "      <td>7</td>\n",
       "      <td>3.145989</td>\n",
       "      <td>3.356562</td>\n",
       "      <td>0.349755</td>\n",
       "      <td>01:29</td>\n",
       "    </tr>\n",
       "    <tr>\n",
       "      <td>8</td>\n",
       "      <td>3.071214</td>\n",
       "      <td>3.351334</td>\n",
       "      <td>0.350976</td>\n",
       "      <td>01:29</td>\n",
       "    </tr>\n",
       "    <tr>\n",
       "      <td>9</td>\n",
       "      <td>3.049138</td>\n",
       "      <td>3.351857</td>\n",
       "      <td>0.351254</td>\n",
       "      <td>01:30</td>\n",
       "    </tr>\n",
       "  </tbody>\n",
       "</table>"
      ],
      "text/plain": [
       "<IPython.core.display.HTML object>"
      ]
     },
     "metadata": {
      "tags": []
     },
     "output_type": "display_data"
    }
   ],
   "source": [
    "learn_lm.unfreeze()\n",
    "learn_lm.fit_one_cycle(10, lr/10, moms=(0.8,0.7))"
   ]
  },
  {
   "cell_type": "code",
   "execution_count": 0,
   "metadata": {
    "colab": {},
    "colab_type": "code",
    "id": "os2EOf_JI4br"
   },
   "outputs": [],
   "source": [
    "learn_lm.save(model_path/'sop_fine_tuned_10')\n",
    "learn_lm.save_encoder(model_path/'sop_fine_tuned_enc_10')"
   ]
  },
  {
   "cell_type": "code",
   "execution_count": 0,
   "metadata": {
    "colab": {},
    "colab_type": "code",
    "id": "Dv5iN71DbJPV"
   },
   "outputs": [],
   "source": [
    "learn_lm.to_fp32().save(model_path/'sop_fine_tuned_10_fp32', with_opt=False)\n",
    "learn_lm.data.vocab.save(model_path/('sop_vocab' + '.pkl'))"
   ]
  },
  {
   "cell_type": "code",
   "execution_count": 0,
   "metadata": {
    "colab": {},
    "colab_type": "code",
    "id": "UiI_-1jGcctA"
   },
   "outputs": [],
   "source": [
    "learn_lm.to_fp32().save(model_path/'sop_fine_tuned_10_fp32_wopt', with_opt=True)"
   ]
  },
  {
   "cell_type": "code",
   "execution_count": 0,
   "metadata": {
    "colab": {},
    "colab_type": "code",
    "id": "mTNk784bc4EG"
   },
   "outputs": [],
   "source": []
  },
  {
   "cell_type": "markdown",
   "metadata": {
    "colab_type": "text",
    "id": "ypplWnL-jGc2"
   },
   "source": [
    "### Only parent posts"
   ]
  },
  {
   "cell_type": "code",
   "execution_count": 0,
   "metadata": {
    "colab": {},
    "colab_type": "code",
    "id": "m9N-5_5mpa19"
   },
   "outputs": [],
   "source": [
    "def match_sops(filepath):\n",
    "  return filepath.name.split('.')[0].endswith('0')\n",
    "\n",
    "data_lm_sop = (TextList.from_folder(data_path/'all_texts')\n",
    "              .filter_by_func(match_sops)\n",
    "              .split_by_rand_pct(0.1, seed=42)\n",
    "              .label_for_lm()           \n",
    "              .databunch(bs=bs, num_workers=1))\n",
    "\n",
    "len(data_lm_sop.vocab.itos),len(data_lm_sop.train_ds)"
   ]
  },
  {
   "cell_type": "code",
   "execution_count": 0,
   "metadata": {
    "colab": {},
    "colab_type": "code",
    "id": "BDl0y9f-k8th"
   },
   "outputs": [],
   "source": [
    "(model_path/'orig_post').mkdir()\n",
    "model_path_sop = model_path/'orig_post'"
   ]
  },
  {
   "cell_type": "code",
   "execution_count": 0,
   "metadata": {
    "colab": {},
    "colab_type": "code",
    "id": "K9wL8bGkjGpn"
   },
   "outputs": [],
   "source": [
    "data_lm_sop.save(data_path/'lm_sop_databunch')"
   ]
  },
  {
   "cell_type": "code",
   "execution_count": 0,
   "metadata": {
    "colab": {},
    "colab_type": "code",
    "id": "2o3DgCY1jRSn"
   },
   "outputs": [],
   "source": []
  },
  {
   "cell_type": "code",
   "execution_count": 0,
   "metadata": {
    "colab": {},
    "colab_type": "code",
    "id": "slAciCCmjRSv"
   },
   "outputs": [],
   "source": [
    "data_lm_sop = load_data(data_path, 'lm_sop_databunch', bs=bs)"
   ]
  },
  {
   "cell_type": "code",
   "execution_count": 0,
   "metadata": {
    "colab": {},
    "colab_type": "code",
    "id": "3p0fG_bwjRSz",
    "scrolled": true
   },
   "outputs": [],
   "source": [
    "learn_lm_sop = language_model_learner(data_lm_sop, AWD_LSTM, drop_mult=1.).to_fp16()"
   ]
  },
  {
   "cell_type": "code",
   "execution_count": 0,
   "metadata": {
    "colab": {
     "base_uri": "https://localhost:8080/",
     "height": 300
    },
    "colab_type": "code",
    "executionInfo": {
     "elapsed": 15963,
     "status": "ok",
     "timestamp": 1566498116523,
     "user": {
      "displayName": "Ry G",
      "photoUrl": "",
      "userId": "08088248083621715982"
     },
     "user_tz": 300
    },
    "id": "JCkihaF-jGyc",
    "outputId": "cb935c9a-4fb7-4fde-a327-6c4eeb440e01"
   },
   "outputs": [
    {
     "data": {
      "text/html": [],
      "text/plain": [
       "<IPython.core.display.HTML object>"
      ]
     },
     "metadata": {
      "tags": []
     },
     "output_type": "display_data"
    },
    {
     "name": "stdout",
     "output_type": "stream",
     "text": [
      "LR Finder is complete, type {learner_name}.recorder.plot() to see the graph.\n"
     ]
    },
    {
     "data": {
      "image/png": "[encoded data removed]",
      "text/plain": [
       "<Figure size 432x288 with 1 Axes>"
      ]
     },
     "metadata": {
      "tags": []
     },
     "output_type": "display_data"
    }
   ],
   "source": [
    "learn_lm_sop.lr_find(); learn_lm_sop.recorder.plot()"
   ]
  },
  {
   "cell_type": "code",
   "execution_count": 0,
   "metadata": {
    "colab": {},
    "colab_type": "code",
    "id": "tVV3apzijzll"
   },
   "outputs": [],
   "source": []
  },
  {
   "cell_type": "code",
   "execution_count": 0,
   "metadata": {
    "colab": {},
    "colab_type": "code",
    "id": "PP2mw81jj7P1"
   },
   "outputs": [],
   "source": [
    "lr = 1e-2\n",
    "lr *= bs/48"
   ]
  },
  {
   "cell_type": "code",
   "execution_count": 0,
   "metadata": {
    "colab": {
     "base_uri": "https://localhost:8080/",
     "height": 77
    },
    "colab_type": "code",
    "executionInfo": {
     "elapsed": 47293,
     "status": "ok",
     "timestamp": 1566498185430,
     "user": {
      "displayName": "Ry G",
      "photoUrl": "",
      "userId": "08088248083621715982"
     },
     "user_tz": 300
    },
    "id": "iwt1BWsWj7QH",
    "outputId": "eb1663db-eb79-467b-a59d-d8eb2013baa7"
   },
   "outputs": [
    {
     "data": {
      "text/html": [
       "<table border=\"1\" class=\"dataframe\">\n",
       "  <thead>\n",
       "    <tr style=\"text-align: left;\">\n",
       "      <th>epoch</th>\n",
       "      <th>train_loss</th>\n",
       "      <th>valid_loss</th>\n",
       "      <th>accuracy</th>\n",
       "      <th>time</th>\n",
       "    </tr>\n",
       "  </thead>\n",
       "  <tbody>\n",
       "    <tr>\n",
       "      <td>0</td>\n",
       "      <td>4.164935</td>\n",
       "      <td>3.766291</td>\n",
       "      <td>0.304404</td>\n",
       "      <td>00:46</td>\n",
       "    </tr>\n",
       "  </tbody>\n",
       "</table>"
      ],
      "text/plain": [
       "<IPython.core.display.HTML object>"
      ]
     },
     "metadata": {
      "tags": []
     },
     "output_type": "display_data"
    }
   ],
   "source": [
    "learn_lm_sop.fit_one_cycle(1, lr, moms=(0.8,0.7))"
   ]
  },
  {
   "cell_type": "code",
   "execution_count": 0,
   "metadata": {
    "colab": {},
    "colab_type": "code",
    "id": "H2_PU3ttj7QM"
   },
   "outputs": [],
   "source": [
    "learn_lm_sop.save(model_path_sop/'parent_sop_baseline')"
   ]
  },
  {
   "cell_type": "code",
   "execution_count": 0,
   "metadata": {
    "colab": {
     "base_uri": "https://localhost:8080/",
     "height": 343
    },
    "colab_type": "code",
    "executionInfo": {
     "elapsed": 549927,
     "status": "ok",
     "timestamp": 1566498958428,
     "user": {
      "displayName": "Ry G",
      "photoUrl": "",
      "userId": "08088248083621715982"
     },
     "user_tz": 300
    },
    "id": "yL2e1iJ3j7QP",
    "outputId": "a3fd6f1e-31a9-49fe-b33c-3fa628887889"
   },
   "outputs": [
    {
     "data": {
      "text/html": [
       "<table border=\"1\" class=\"dataframe\">\n",
       "  <thead>\n",
       "    <tr style=\"text-align: left;\">\n",
       "      <th>epoch</th>\n",
       "      <th>train_loss</th>\n",
       "      <th>valid_loss</th>\n",
       "      <th>accuracy</th>\n",
       "      <th>time</th>\n",
       "    </tr>\n",
       "  </thead>\n",
       "  <tbody>\n",
       "    <tr>\n",
       "      <td>0</td>\n",
       "      <td>3.831860</td>\n",
       "      <td>3.656862</td>\n",
       "      <td>0.316588</td>\n",
       "      <td>00:55</td>\n",
       "    </tr>\n",
       "    <tr>\n",
       "      <td>1</td>\n",
       "      <td>3.726399</td>\n",
       "      <td>3.598825</td>\n",
       "      <td>0.323154</td>\n",
       "      <td>00:54</td>\n",
       "    </tr>\n",
       "    <tr>\n",
       "      <td>2</td>\n",
       "      <td>3.619231</td>\n",
       "      <td>3.554218</td>\n",
       "      <td>0.327911</td>\n",
       "      <td>00:54</td>\n",
       "    </tr>\n",
       "    <tr>\n",
       "      <td>3</td>\n",
       "      <td>3.515006</td>\n",
       "      <td>3.521124</td>\n",
       "      <td>0.331429</td>\n",
       "      <td>00:54</td>\n",
       "    </tr>\n",
       "    <tr>\n",
       "      <td>4</td>\n",
       "      <td>3.407164</td>\n",
       "      <td>3.495150</td>\n",
       "      <td>0.335925</td>\n",
       "      <td>00:55</td>\n",
       "    </tr>\n",
       "    <tr>\n",
       "      <td>5</td>\n",
       "      <td>3.306841</td>\n",
       "      <td>3.473606</td>\n",
       "      <td>0.338744</td>\n",
       "      <td>00:54</td>\n",
       "    </tr>\n",
       "    <tr>\n",
       "      <td>6</td>\n",
       "      <td>3.203699</td>\n",
       "      <td>3.462002</td>\n",
       "      <td>0.340555</td>\n",
       "      <td>00:54</td>\n",
       "    </tr>\n",
       "    <tr>\n",
       "      <td>7</td>\n",
       "      <td>3.094617</td>\n",
       "      <td>3.456797</td>\n",
       "      <td>0.341690</td>\n",
       "      <td>00:54</td>\n",
       "    </tr>\n",
       "    <tr>\n",
       "      <td>8</td>\n",
       "      <td>3.027657</td>\n",
       "      <td>3.455701</td>\n",
       "      <td>0.342500</td>\n",
       "      <td>00:54</td>\n",
       "    </tr>\n",
       "    <tr>\n",
       "      <td>9</td>\n",
       "      <td>3.013192</td>\n",
       "      <td>3.458644</td>\n",
       "      <td>0.342341</td>\n",
       "      <td>00:55</td>\n",
       "    </tr>\n",
       "  </tbody>\n",
       "</table>"
      ],
      "text/plain": [
       "<IPython.core.display.HTML object>"
      ]
     },
     "metadata": {
      "tags": []
     },
     "output_type": "display_data"
    }
   ],
   "source": [
    "learn_lm_sop.unfreeze()\n",
    "learn_lm_sop.fit_one_cycle(10, lr/10, moms=(0.8,0.7))"
   ]
  },
  {
   "cell_type": "code",
   "execution_count": 0,
   "metadata": {
    "colab": {},
    "colab_type": "code",
    "id": "_Uq-aa3Nj7QT"
   },
   "outputs": [],
   "source": [
    "learn_lm_sop.save(model_path_sop/'parent_sop_fine_tuned_10')\n",
    "learn_lm_sop.save_encoder(model_path_sop/'parent_sop_fine_tuned_enc_10')"
   ]
  },
  {
   "cell_type": "code",
   "execution_count": 0,
   "metadata": {
    "colab": {},
    "colab_type": "code",
    "id": "HU_zX4yej7QW"
   },
   "outputs": [],
   "source": [
    "learn_lm_sop.to_fp32().save(model_path_sop/'parent_sop_fine_tuned_10_fp32', with_opt=False)\n",
    "learn_lm_sop.data.vocab.save(model_path_sop/('parent_sop_vocab' + '.pkl'))"
   ]
  },
  {
   "cell_type": "code",
   "execution_count": 0,
   "metadata": {
    "colab": {},
    "colab_type": "code",
    "id": "2pZXg-f1j7QZ"
   },
   "outputs": [],
   "source": [
    "learn_lm_sop.to_fp32().save(model_path_sop/'parent_sop_fine_tuned_10_fp32_wopt', with_opt=True)"
   ]
  },
  {
   "cell_type": "code",
   "execution_count": 0,
   "metadata": {
    "colab": {},
    "colab_type": "code",
    "id": "kDA0n8zYjzcH"
   },
   "outputs": [],
   "source": []
  },
  {
   "cell_type": "markdown",
   "metadata": {
    "colab_type": "text",
    "id": "ULczdJKUjzSQ"
   },
   "source": [
    "### Only Non-OP posts (critiques)"
   ]
  },
  {
   "cell_type": "code",
   "execution_count": 0,
   "metadata": {
    "colab": {},
    "colab_type": "code",
    "id": "LFUIetH0jzF2"
   },
   "outputs": [],
   "source": [
    "!unzip '/content/gdrive/My Drive/fastai_nlp/proc_data/critiques.zip' -d '/content/gdrive/My Drive/fastai_nlp/proc_data/'"
   ]
  },
  {
   "cell_type": "code",
   "execution_count": 0,
   "metadata": {
    "colab": {},
    "colab_type": "code",
    "id": "-Iz-EIHvpDHF"
   },
   "outputs": [],
   "source": [
    "(model_path/'critiques').mkdir()\n",
    "model_path_crit = model_path/'critiques'"
   ]
  },
  {
   "cell_type": "code",
   "execution_count": 0,
   "metadata": {
    "colab": {
     "base_uri": "https://localhost:8080/",
     "height": 34
    },
    "colab_type": "code",
    "executionInfo": {
     "elapsed": 17,
     "status": "ok",
     "timestamp": 1566500052964,
     "user": {
      "displayName": "Ry G",
      "photoUrl": "",
      "userId": "08088248083621715982"
     },
     "user_tz": 300
    },
    "id": "-zbGjmDMrL0I",
    "outputId": "5de01e24-baf1-4403-97ef-73f058cb85d0"
   },
   "outputs": [
    {
     "data": {
      "text/plain": [
       "(8448, 4981)"
      ]
     },
     "execution_count": 69,
     "metadata": {
      "tags": []
     },
     "output_type": "execute_result"
    }
   ],
   "source": [
    "data_lm_crit = (TextList.from_folder(data_path)\n",
    "            .filter_by_folder(include=['critiques']) \n",
    "            .split_by_rand_pct(0.1, seed=42)\n",
    "            .label_for_lm()           \n",
    "            .databunch(bs=bs, num_workers=1))\n",
    "\n",
    "len(data_lm_crit.vocab.itos),len(data_lm_crit.train_ds)"
   ]
  },
  {
   "cell_type": "code",
   "execution_count": 0,
   "metadata": {
    "colab": {},
    "colab_type": "code",
    "id": "UQXNjF4DpDHM"
   },
   "outputs": [],
   "source": [
    "data_lm_crit.save(data_path/'lm_crit_databunch')"
   ]
  },
  {
   "cell_type": "code",
   "execution_count": 0,
   "metadata": {
    "colab": {},
    "colab_type": "code",
    "id": "NSjKFSD7pDHS"
   },
   "outputs": [],
   "source": [
    "data_lm_crit = load_data(data_path, 'lm_sop_databunch', bs=bs)"
   ]
  },
  {
   "cell_type": "code",
   "execution_count": 0,
   "metadata": {
    "colab": {},
    "colab_type": "code",
    "id": "CykCIHZ-pDHU",
    "scrolled": true
   },
   "outputs": [],
   "source": [
    "learn_lm_crit = language_model_learner(data_lm_crit, AWD_LSTM, drop_mult=1.).to_fp16()"
   ]
  },
  {
   "cell_type": "code",
   "execution_count": 0,
   "metadata": {
    "colab": {
     "base_uri": "https://localhost:8080/",
     "height": 300
    },
    "colab_type": "code",
    "executionInfo": {
     "elapsed": 15788,
     "status": "ok",
     "timestamp": 1566500162037,
     "user": {
      "displayName": "Ry G",
      "photoUrl": "",
      "userId": "08088248083621715982"
     },
     "user_tz": 300
    },
    "id": "JQFgHVllpDHX",
    "outputId": "c8b6dd48-2957-4f2a-c5b5-ac639431ed40"
   },
   "outputs": [
    {
     "data": {
      "text/html": [],
      "text/plain": [
       "<IPython.core.display.HTML object>"
      ]
     },
     "metadata": {
      "tags": []
     },
     "output_type": "display_data"
    },
    {
     "name": "stdout",
     "output_type": "stream",
     "text": [
      "LR Finder is complete, type {learner_name}.recorder.plot() to see the graph.\n"
     ]
    },
    {
     "data": {
      "image/png": "[encoded data removed]",
      "text/plain": [
       "<Figure size 432x288 with 1 Axes>"
      ]
     },
     "metadata": {
      "tags": []
     },
     "output_type": "display_data"
    }
   ],
   "source": [
    "learn_lm_crit.lr_find(); learn_lm_crit.recorder.plot()"
   ]
  },
  {
   "cell_type": "code",
   "execution_count": 0,
   "metadata": {
    "colab": {},
    "colab_type": "code",
    "id": "Y3Wyb-C7pDHb"
   },
   "outputs": [],
   "source": []
  },
  {
   "cell_type": "code",
   "execution_count": 0,
   "metadata": {
    "colab": {},
    "colab_type": "code",
    "id": "SDhRmPOtpDHe"
   },
   "outputs": [],
   "source": [
    "lr = 1e-2\n",
    "lr *= bs/48"
   ]
  },
  {
   "cell_type": "code",
   "execution_count": 0,
   "metadata": {
    "colab": {
     "base_uri": "https://localhost:8080/",
     "height": 77
    },
    "colab_type": "code",
    "executionInfo": {
     "elapsed": 46971,
     "status": "ok",
     "timestamp": 1566500232451,
     "user": {
      "displayName": "Ry G",
      "photoUrl": "",
      "userId": "08088248083621715982"
     },
     "user_tz": 300
    },
    "id": "buePRwEYpDHh",
    "outputId": "91bb4bc4-7849-4cbb-8bcb-3c255caf93b1"
   },
   "outputs": [
    {
     "data": {
      "text/html": [
       "<table border=\"1\" class=\"dataframe\">\n",
       "  <thead>\n",
       "    <tr style=\"text-align: left;\">\n",
       "      <th>epoch</th>\n",
       "      <th>train_loss</th>\n",
       "      <th>valid_loss</th>\n",
       "      <th>accuracy</th>\n",
       "      <th>time</th>\n",
       "    </tr>\n",
       "  </thead>\n",
       "  <tbody>\n",
       "    <tr>\n",
       "      <td>0</td>\n",
       "      <td>4.148306</td>\n",
       "      <td>3.764736</td>\n",
       "      <td>0.305249</td>\n",
       "      <td>00:46</td>\n",
       "    </tr>\n",
       "  </tbody>\n",
       "</table>"
      ],
      "text/plain": [
       "<IPython.core.display.HTML object>"
      ]
     },
     "metadata": {
      "tags": []
     },
     "output_type": "display_data"
    }
   ],
   "source": [
    "learn_lm_crit.fit_one_cycle(1, lr, moms=(0.8,0.7))"
   ]
  },
  {
   "cell_type": "code",
   "execution_count": 0,
   "metadata": {
    "colab": {},
    "colab_type": "code",
    "id": "aim50VpVpDHm"
   },
   "outputs": [],
   "source": [
    "learn_lm_crit.save(model_path_crit/'critiques_baseline')"
   ]
  },
  {
   "cell_type": "code",
   "execution_count": 0,
   "metadata": {
    "colab": {
     "base_uri": "https://localhost:8080/",
     "height": 343
    },
    "colab_type": "code",
    "executionInfo": {
     "elapsed": 551074,
     "status": "ok",
     "timestamp": 1566500801074,
     "user": {
      "displayName": "Ry G",
      "photoUrl": "",
      "userId": "08088248083621715982"
     },
     "user_tz": 300
    },
    "id": "rtIB2ACupDHq",
    "outputId": "db845dd9-64ea-4853-dd0f-c335d146199e"
   },
   "outputs": [
    {
     "data": {
      "text/html": [
       "<table border=\"1\" class=\"dataframe\">\n",
       "  <thead>\n",
       "    <tr style=\"text-align: left;\">\n",
       "      <th>epoch</th>\n",
       "      <th>train_loss</th>\n",
       "      <th>valid_loss</th>\n",
       "      <th>accuracy</th>\n",
       "      <th>time</th>\n",
       "    </tr>\n",
       "  </thead>\n",
       "  <tbody>\n",
       "    <tr>\n",
       "      <td>0</td>\n",
       "      <td>3.810826</td>\n",
       "      <td>3.657624</td>\n",
       "      <td>0.316473</td>\n",
       "      <td>00:55</td>\n",
       "    </tr>\n",
       "    <tr>\n",
       "      <td>1</td>\n",
       "      <td>3.708968</td>\n",
       "      <td>3.598643</td>\n",
       "      <td>0.323830</td>\n",
       "      <td>00:54</td>\n",
       "    </tr>\n",
       "    <tr>\n",
       "      <td>2</td>\n",
       "      <td>3.623111</td>\n",
       "      <td>3.558079</td>\n",
       "      <td>0.327105</td>\n",
       "      <td>00:54</td>\n",
       "    </tr>\n",
       "    <tr>\n",
       "      <td>3</td>\n",
       "      <td>3.503735</td>\n",
       "      <td>3.516328</td>\n",
       "      <td>0.332165</td>\n",
       "      <td>00:54</td>\n",
       "    </tr>\n",
       "    <tr>\n",
       "      <td>4</td>\n",
       "      <td>3.422373</td>\n",
       "      <td>3.486470</td>\n",
       "      <td>0.336145</td>\n",
       "      <td>00:54</td>\n",
       "    </tr>\n",
       "    <tr>\n",
       "      <td>5</td>\n",
       "      <td>3.309727</td>\n",
       "      <td>3.476789</td>\n",
       "      <td>0.338262</td>\n",
       "      <td>00:55</td>\n",
       "    </tr>\n",
       "    <tr>\n",
       "      <td>6</td>\n",
       "      <td>3.181063</td>\n",
       "      <td>3.461334</td>\n",
       "      <td>0.340966</td>\n",
       "      <td>00:55</td>\n",
       "    </tr>\n",
       "    <tr>\n",
       "      <td>7</td>\n",
       "      <td>3.106721</td>\n",
       "      <td>3.455475</td>\n",
       "      <td>0.342321</td>\n",
       "      <td>00:55</td>\n",
       "    </tr>\n",
       "    <tr>\n",
       "      <td>8</td>\n",
       "      <td>3.019396</td>\n",
       "      <td>3.455621</td>\n",
       "      <td>0.342742</td>\n",
       "      <td>00:55</td>\n",
       "    </tr>\n",
       "    <tr>\n",
       "      <td>9</td>\n",
       "      <td>2.982315</td>\n",
       "      <td>3.456981</td>\n",
       "      <td>0.342733</td>\n",
       "      <td>00:55</td>\n",
       "    </tr>\n",
       "  </tbody>\n",
       "</table>"
      ],
      "text/plain": [
       "<IPython.core.display.HTML object>"
      ]
     },
     "metadata": {
      "tags": []
     },
     "output_type": "display_data"
    }
   ],
   "source": [
    "learn_lm_crit.unfreeze()\n",
    "learn_lm_crit.fit_one_cycle(10, lr/10, moms=(0.8,0.7))"
   ]
  },
  {
   "cell_type": "code",
   "execution_count": 0,
   "metadata": {
    "colab": {},
    "colab_type": "code",
    "id": "uYNvkBTrpDHu"
   },
   "outputs": [],
   "source": [
    "learn_lm_crit.save(model_path_crit/'critiques_fine_tuned_10')\n",
    "learn_lm_crit.save_encoder(model_path_crit/'critiques_fine_tuned_enc_10')"
   ]
  },
  {
   "cell_type": "code",
   "execution_count": 0,
   "metadata": {
    "colab": {},
    "colab_type": "code",
    "id": "8M21UY81pDHx"
   },
   "outputs": [],
   "source": [
    "learn_lm_crit.to_fp32().save(model_path_crit/'critiques_fine_tuned_10_fp32', with_opt=False)\n",
    "learn_lm_crit.data.vocab.save(model_path_crit/('critiques_vocab' + '.pkl'))"
   ]
  },
  {
   "cell_type": "code",
   "execution_count": 0,
   "metadata": {
    "colab": {},
    "colab_type": "code",
    "id": "cvYtgk6HpDH0"
   },
   "outputs": [],
   "source": [
    "learn_lm_crit.to_fp32().save(model_path_crit/'critiques_fine_tuned_10_fp32_wopt', with_opt=True)"
   ]
  },
  {
   "cell_type": "code",
   "execution_count": 0,
   "metadata": {
    "colab": {},
    "colab_type": "code",
    "id": "-k1qh0-djy0Y"
   },
   "outputs": [],
   "source": []
  },
  {
   "cell_type": "markdown",
   "metadata": {
    "colab_type": "text",
    "id": "EyUONG-mc4u_"
   },
   "source": [
    "### Predict next word / text generation"
   ]
  },
  {
   "cell_type": "code",
   "execution_count": 0,
   "metadata": {
    "colab": {},
    "colab_type": "code",
    "id": "GITQpvGtvQjK"
   },
   "outputs": [],
   "source": [
    "def text_gen_sample(model, text_primer=\"data science is\", num_words=200, num_sentences=1, temperature=0.75):\n",
    "  print(\"\\n\".join(model.predict(text_primer, num_words, temperature) for _ in range(num_sentences)))"
   ]
  },
  {
   "cell_type": "code",
   "execution_count": 0,
   "metadata": {
    "colab": {},
    "colab_type": "code",
    "id": "idx1v3BGc4-C"
   },
   "outputs": [],
   "source": [
    "TEXT = \"data science is\"\n",
    "N_WORDS = 400\n",
    "N_SENTENCES = 1"
   ]
  },
  {
   "cell_type": "code",
   "execution_count": 0,
   "metadata": {
    "colab": {},
    "colab_type": "code",
    "id": "h_HDDCLec5OM"
   },
   "outputs": [],
   "source": [
    "# Sample Combined Sentence\n",
    "print(\"\\n\".join(learn_lm.predict(TEXT, N_WORDS, temperature=0.75) for _ in range(N_SENTENCES)))"
   ]
  },
  {
   "cell_type": "code",
   "execution_count": 0,
   "metadata": {
    "colab": {
     "base_uri": "https://localhost:8080/",
     "height": 121
    },
    "colab_type": "code",
    "executionInfo": {
     "elapsed": 1425,
     "status": "ok",
     "timestamp": 1566499251123,
     "user": {
      "displayName": "Ry G",
      "photoUrl": "",
      "userId": "08088248083621715982"
     },
     "user_tz": 300
    },
    "id": "0NqUcL8Bd6Ua",
    "outputId": "5dc51a53-a1d4-476b-890e-88a31dcab42f"
   },
   "outputs": [
    {
     "name": "stdout",
     "output_type": "stream",
     "text": [
      "data science is a world of science , science , technology , and analytics . This requires a profound understanding of the concepts of data science and data mining . Data analytics has always been my interest since my childhood . My curiosity about data analytics led me to choose Data Science as my undergraduate major . During my undergraduate studies , i had a good grasp of Data Science , and realized that Data Science is almost the field i am interested in . At University of Michigan , i spent an entire semester working in a research center . This job taught me the importance of management , strength of data , and the ability to work under pressure . \n",
      " \n",
      "  As the a year 's internship , i joined the National Information Technology Service Unit ( ENMS ) , the largest Service Provider in Asia . i learned the technical and analytical tools of the CCNA Integrated Protocols and Wifi Protocol , so i was assigned a project of a Standard of Service Obligation ( ENMS ) module . It was a unique experience for me , as i was given the opportunity to learn the latest technology in the field of IT . As a part of the project , i had to identify and analyze the information system with a new approach in the CCNA system . i was able to implement this system in a complex Internet - based system which could only be accessible to the customers in a safe and safe environment . This was a great learning experience that reaffirmed my conviction that i needed to further my knowledge in the field of Information Systems and Information Management . \n",
      " \n",
      "  My interest in computers started with a programming course - Java , where i used the PHP , c and SQL i am currently working on . My first project at my college was a J2EE game , for which i Worked on the J2EE and Java J2EE . It was an accomplished project among others , and was soon\n"
     ]
    }
   ],
   "source": [
    "# Sample SoP Sentenence\n",
    "print(\"\\n\".join(learn_lm_sop.predict(TEXT, N_WORDS, temperature=0.75) for _ in range(N_SENTENCES)))"
   ]
  },
  {
   "cell_type": "code",
   "execution_count": 0,
   "metadata": {
    "colab": {
     "base_uri": "https://localhost:8080/",
     "height": 222
    },
    "colab_type": "code",
    "executionInfo": {
     "elapsed": 1544,
     "status": "ok",
     "timestamp": 1566501684244,
     "user": {
      "displayName": "Ry G",
      "photoUrl": "",
      "userId": "08088248083621715982"
     },
     "user_tz": 300
    },
    "id": "dpTwRF5xu3Dz",
    "outputId": "ed2ab484-050d-4934-acd1-2b10201ba70b"
   },
   "outputs": [
    {
     "name": "stdout",
     "output_type": "stream",
     "text": [
      "so far i need to improve my essay . Please feel free to try me out . \n",
      " \n",
      "  a personal statement that describes your academic interests and your purpose and objectives in undertaking graduate study . \n",
      " \n",
      "  i am applying for the Master of Engineering program in Economics at XXX . It has made me realize that this is the field of economics that i am interested in . i have always believed that i would have an excellent education in economics . i intend to pursue a Master of Science in Economics at XXX University . My ambition is to pursue my Doctoral studies in Economics and become an economist . \n",
      " \n",
      "  In my undergraduate studies , i have participated in many extracurricular activities and have been a active participant of many student organizations . As a member of the Society of International Students , i have won several national and national level technical quizzes . During my first year of college , i was a member of the Fourth Annual Student Council of Singapore . i was an active member of the Student Entrepreneurship Association and was able to take the opportunity to interact with people from various backgrounds . i believe that i am committed to the University and how i can contribute to the society . \n",
      " \n",
      "  i have a deep deep interest in the financial sector since i was one of the brightest students in the university . The study of finance has been both a major component of my life as it deals with quantitative tools and statistical analysis . The curriculum of the Master 's program is well suited to my interests . i am particularly interested in the Stock Exchange and Investments , which would be a great tool for me to understand the market , its market and the economy . \n",
      " \n",
      "  The MSC in Finance and Finance at XXX University keeps me abreast about the latest financial management in the field of finance and offers me a great opportunity to gain practical knowledge and help me in my career . The University of XXX with its strong emphasis on\n"
     ]
    }
   ],
   "source": [
    "# Sample Critique Sentenence\n",
    "print(\"\\n\".join(learn_lm_crit.predict(\"so far i\", N_WORDS, temperature=0.75) for _ in range(N_SENTENCES)))"
   ]
  },
  {
   "cell_type": "code",
   "execution_count": 0,
   "metadata": {
    "colab": {
     "base_uri": "https://localhost:8080/",
     "height": 121
    },
    "colab_type": "code",
    "executionInfo": {
     "elapsed": 959,
     "status": "ok",
     "timestamp": 1566501559580,
     "user": {
      "displayName": "Ry G",
      "photoUrl": "",
      "userId": "08088248083621715982"
     },
     "user_tz": 300
    },
    "id": "qpV3ZUk9whBQ",
    "outputId": "32a39ec2-5896-4bd8-e2c4-40552d484b0f"
   },
   "outputs": [
    {
     "name": "stdout",
     "output_type": "stream",
     "text": [
      "i think you submit this essay and this type of essay is again an important option for me . This essay is very welcomed . Thanks in advance . \n",
      " \n",
      "  \" Life is full of hardships \" , i said it . As i grew older , i have been fascinated to learn more about the human body as well . i began reading articles about business and was intrigued , i wanted to have this opportunity . \n",
      " \n",
      "  i was chosen by the Department of Science and Technology to attend Pre - University College and a Concentration on Data Science specialized in Data Science at ABC a colleges . i studied Statistics and Math . i was honored with my first choice of the Financial institutions as my major from both the University and College . i not only excelled in math , mathematics , physics , philosophy and chemistry but also excelled by teaching . By being in the Top five to curemd like Mathematics , i excelled in Physics , Mathematics and Chemistry\n"
     ]
    }
   ],
   "source": [
    "text_gen_sample(learn_lm_crit,'i think you', 200, 1, 0.75)"
   ]
  },
  {
   "cell_type": "markdown",
   "metadata": {
    "colab_type": "text",
    "id": "Jd8EDTXqd6lH"
   },
   "source": [
    "**Train more**"
   ]
  },
  {
   "cell_type": "code",
   "execution_count": 0,
   "metadata": {
    "colab": {
     "base_uri": "https://localhost:8080/",
     "height": 334
    },
    "colab_type": "code",
    "executionInfo": {
     "elapsed": 55019,
     "status": "ok",
     "timestamp": 1566496621636,
     "user": {
      "displayName": "Ry G",
      "photoUrl": "",
      "userId": "08088248083621715982"
     },
     "user_tz": 300
    },
    "id": "HCOX7C14d6u1",
    "outputId": "d6ccf4a6-7e41-4696-c26e-4ae835dbf128"
   },
   "outputs": [
    {
     "data": {
      "text/html": [],
      "text/plain": [
       "<IPython.core.display.HTML object>"
      ]
     },
     "metadata": {
      "tags": []
     },
     "output_type": "display_data"
    },
    {
     "name": "stdout",
     "output_type": "stream",
     "text": [
      "LR Finder is complete, type {learner_name}.recorder.plot() to see the graph.\n",
      "Min numerical gradient: 6.31E-07\n",
      "Min loss divided by 10: 2.09E-04\n"
     ]
    },
    {
     "data": {
      "image/png": "[encoded data removed]",
      "text/plain": [
       "<Figure size 432x288 with 1 Axes>"
      ]
     },
     "metadata": {
      "tags": []
     },
     "output_type": "display_data"
    }
   ],
   "source": [
    "learn_lm.lr_find(); learn_lm.recorder.plot(suggestion=True)"
   ]
  },
  {
   "cell_type": "code",
   "execution_count": 0,
   "metadata": {
    "colab": {},
    "colab_type": "code",
    "id": "1mZypEyKI4cl"
   },
   "outputs": [],
   "source": []
  }
 ],
 "metadata": {
  "accelerator": "GPU",
  "colab": {
   "collapsed_sections": [],
   "name": "nn-imdb-more.ipynb",
   "provenance": [
    {
     "file_id": "https://github.com/fastai/course-nlp/blob/master/nn-imdb-more.ipynb",
     "timestamp": 1566491000343
    }
   ],
   "toc_visible": true,
   "version": "0.3.2"
  },
  "kernelspec": {
   "display_name": "Python 3",
   "language": "python",
   "name": "python3"
  },
  "language_info": {
   "codemirror_mode": {
    "name": "ipython",
    "version": 3
   },
   "file_extension": ".py",
   "mimetype": "text/x-python",
   "name": "python",
   "nbconvert_exporter": "python",
   "pygments_lexer": "ipython3",
   "version": "3.7.3"
  },
  "pycharm": {
   "stem_cell": {
    "cell_type": "raw",
    "metadata": {
     "collapsed": false
    },
    "source": []
   }
  }
 },
 "nbformat": 4,
 "nbformat_minor": 1
}
